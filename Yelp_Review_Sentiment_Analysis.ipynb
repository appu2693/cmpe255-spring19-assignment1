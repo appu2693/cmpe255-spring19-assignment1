{
 "cells": [
  {
   "cell_type": "code",
   "execution_count": 1,
   "metadata": {},
   "outputs": [],
   "source": [
    "import pandas as pd\n",
    "\n",
    "data =  pd.read_csv(r'yelp_academic_dataset_review.csv',encoding = \"utf8\",keep_default_na=False,nrows=200000)\n",
    "\n",
    "\n",
    "from sqlalchemy import create_engine\n",
    "engine = create_engine('sqlite://', echo=False)\n",
    "data.to_sql('yelp_reviews',con=engine)\n"
   ]
  },
  {
   "cell_type": "code",
   "execution_count": 2,
   "metadata": {
    "scrolled": true
   },
   "outputs": [
    {
     "data": {
      "text/html": [
       "<div>\n",
       "<style scoped>\n",
       "    .dataframe tbody tr th:only-of-type {\n",
       "        vertical-align: middle;\n",
       "    }\n",
       "\n",
       "    .dataframe tbody tr th {\n",
       "        vertical-align: top;\n",
       "    }\n",
       "\n",
       "    .dataframe thead th {\n",
       "        text-align: right;\n",
       "    }\n",
       "</style>\n",
       "<table border=\"1\" class=\"dataframe\">\n",
       "  <thead>\n",
       "    <tr style=\"text-align: right;\">\n",
       "      <th></th>\n",
       "      <th>user_id</th>\n",
       "      <th>review_id</th>\n",
       "      <th>text</th>\n",
       "      <th>votes.cool</th>\n",
       "      <th>business_id</th>\n",
       "      <th>votes.funny</th>\n",
       "      <th>stars</th>\n",
       "      <th>date</th>\n",
       "      <th>type</th>\n",
       "      <th>votes.useful</th>\n",
       "    </tr>\n",
       "  </thead>\n",
       "  <tbody>\n",
       "    <tr>\n",
       "      <th>0</th>\n",
       "      <td>Xqd0DzHaiyRqVH3WRG7hzg</td>\n",
       "      <td>15SdjuK7DmYqUAj6rjGowg</td>\n",
       "      <td>dr. goldberg offers everything i look for in a...</td>\n",
       "      <td>1</td>\n",
       "      <td>vcNAWiLM4dR7D2nwwJ7nCA</td>\n",
       "      <td>0</td>\n",
       "      <td>5</td>\n",
       "      <td>2007-05-17</td>\n",
       "      <td>review</td>\n",
       "      <td>2</td>\n",
       "    </tr>\n",
       "    <tr>\n",
       "      <th>1</th>\n",
       "      <td>H1kH6QZV7Le4zqTRNxoZow</td>\n",
       "      <td>RF6UnRTtG7tWMcrO2GEoAg</td>\n",
       "      <td>Unfortunately, the frustration of being Dr. Go...</td>\n",
       "      <td>0</td>\n",
       "      <td>vcNAWiLM4dR7D2nwwJ7nCA</td>\n",
       "      <td>0</td>\n",
       "      <td>2</td>\n",
       "      <td>2010-03-22</td>\n",
       "      <td>review</td>\n",
       "      <td>2</td>\n",
       "    </tr>\n",
       "    <tr>\n",
       "      <th>2</th>\n",
       "      <td>zvJCcrpm2yOZrxKffwGQLA</td>\n",
       "      <td>-TsVN230RCkLYKBeLsuz7A</td>\n",
       "      <td>Dr. Goldberg has been my doctor for years and ...</td>\n",
       "      <td>1</td>\n",
       "      <td>vcNAWiLM4dR7D2nwwJ7nCA</td>\n",
       "      <td>0</td>\n",
       "      <td>4</td>\n",
       "      <td>2012-02-14</td>\n",
       "      <td>review</td>\n",
       "      <td>1</td>\n",
       "    </tr>\n",
       "    <tr>\n",
       "      <th>3</th>\n",
       "      <td>KBLW4wJA_fwoWmMhiHRVOA</td>\n",
       "      <td>dNocEAyUucjT371NNND41Q</td>\n",
       "      <td>Been going to Dr. Goldberg for over 10 years. ...</td>\n",
       "      <td>0</td>\n",
       "      <td>vcNAWiLM4dR7D2nwwJ7nCA</td>\n",
       "      <td>0</td>\n",
       "      <td>4</td>\n",
       "      <td>2012-03-02</td>\n",
       "      <td>review</td>\n",
       "      <td>0</td>\n",
       "    </tr>\n",
       "    <tr>\n",
       "      <th>4</th>\n",
       "      <td>zvJCcrpm2yOZrxKffwGQLA</td>\n",
       "      <td>ebcN2aqmNUuYNoyvQErgnA</td>\n",
       "      <td>Got a letter in the mail last week that said D...</td>\n",
       "      <td>1</td>\n",
       "      <td>vcNAWiLM4dR7D2nwwJ7nCA</td>\n",
       "      <td>0</td>\n",
       "      <td>4</td>\n",
       "      <td>2012-05-15</td>\n",
       "      <td>review</td>\n",
       "      <td>2</td>\n",
       "    </tr>\n",
       "  </tbody>\n",
       "</table>\n",
       "</div>"
      ],
      "text/plain": [
       "                  user_id               review_id  \\\n",
       "0  Xqd0DzHaiyRqVH3WRG7hzg  15SdjuK7DmYqUAj6rjGowg   \n",
       "1  H1kH6QZV7Le4zqTRNxoZow  RF6UnRTtG7tWMcrO2GEoAg   \n",
       "2  zvJCcrpm2yOZrxKffwGQLA  -TsVN230RCkLYKBeLsuz7A   \n",
       "3  KBLW4wJA_fwoWmMhiHRVOA  dNocEAyUucjT371NNND41Q   \n",
       "4  zvJCcrpm2yOZrxKffwGQLA  ebcN2aqmNUuYNoyvQErgnA   \n",
       "\n",
       "                                                text  votes.cool  \\\n",
       "0  dr. goldberg offers everything i look for in a...           1   \n",
       "1  Unfortunately, the frustration of being Dr. Go...           0   \n",
       "2  Dr. Goldberg has been my doctor for years and ...           1   \n",
       "3  Been going to Dr. Goldberg for over 10 years. ...           0   \n",
       "4  Got a letter in the mail last week that said D...           1   \n",
       "\n",
       "              business_id  votes.funny  stars        date    type  \\\n",
       "0  vcNAWiLM4dR7D2nwwJ7nCA            0      5  2007-05-17  review   \n",
       "1  vcNAWiLM4dR7D2nwwJ7nCA            0      2  2010-03-22  review   \n",
       "2  vcNAWiLM4dR7D2nwwJ7nCA            0      4  2012-02-14  review   \n",
       "3  vcNAWiLM4dR7D2nwwJ7nCA            0      4  2012-03-02  review   \n",
       "4  vcNAWiLM4dR7D2nwwJ7nCA            0      4  2012-05-15  review   \n",
       "\n",
       "   votes.useful  \n",
       "0             2  \n",
       "1             2  \n",
       "2             1  \n",
       "3             0  \n",
       "4             2  "
      ]
     },
     "execution_count": 2,
     "metadata": {},
     "output_type": "execute_result"
    }
   ],
   "source": [
    "data.head()"
   ]
  },
  {
   "cell_type": "code",
   "execution_count": 3,
   "metadata": {},
   "outputs": [
    {
     "data": {
      "text/html": [
       "<div>\n",
       "<style scoped>\n",
       "    .dataframe tbody tr th:only-of-type {\n",
       "        vertical-align: middle;\n",
       "    }\n",
       "\n",
       "    .dataframe tbody tr th {\n",
       "        vertical-align: top;\n",
       "    }\n",
       "\n",
       "    .dataframe thead th {\n",
       "        text-align: right;\n",
       "    }\n",
       "</style>\n",
       "<table border=\"1\" class=\"dataframe\">\n",
       "  <thead>\n",
       "    <tr style=\"text-align: right;\">\n",
       "      <th></th>\n",
       "      <th>votes.cool</th>\n",
       "      <th>votes.funny</th>\n",
       "      <th>stars</th>\n",
       "      <th>votes.useful</th>\n",
       "    </tr>\n",
       "  </thead>\n",
       "  <tbody>\n",
       "    <tr>\n",
       "      <th>count</th>\n",
       "      <td>200000.000000</td>\n",
       "      <td>200000.000000</td>\n",
       "      <td>200000.000000</td>\n",
       "      <td>200000.000000</td>\n",
       "    </tr>\n",
       "    <tr>\n",
       "      <th>mean</th>\n",
       "      <td>0.644440</td>\n",
       "      <td>0.534925</td>\n",
       "      <td>3.660460</td>\n",
       "      <td>1.124985</td>\n",
       "    </tr>\n",
       "    <tr>\n",
       "      <th>std</th>\n",
       "      <td>1.609059</td>\n",
       "      <td>1.614179</td>\n",
       "      <td>1.334991</td>\n",
       "      <td>1.962349</td>\n",
       "    </tr>\n",
       "    <tr>\n",
       "      <th>min</th>\n",
       "      <td>0.000000</td>\n",
       "      <td>0.000000</td>\n",
       "      <td>1.000000</td>\n",
       "      <td>0.000000</td>\n",
       "    </tr>\n",
       "    <tr>\n",
       "      <th>25%</th>\n",
       "      <td>0.000000</td>\n",
       "      <td>0.000000</td>\n",
       "      <td>3.000000</td>\n",
       "      <td>0.000000</td>\n",
       "    </tr>\n",
       "    <tr>\n",
       "      <th>50%</th>\n",
       "      <td>0.000000</td>\n",
       "      <td>0.000000</td>\n",
       "      <td>4.000000</td>\n",
       "      <td>1.000000</td>\n",
       "    </tr>\n",
       "    <tr>\n",
       "      <th>75%</th>\n",
       "      <td>1.000000</td>\n",
       "      <td>0.000000</td>\n",
       "      <td>5.000000</td>\n",
       "      <td>1.000000</td>\n",
       "    </tr>\n",
       "    <tr>\n",
       "      <th>max</th>\n",
       "      <td>65.000000</td>\n",
       "      <td>68.000000</td>\n",
       "      <td>5.000000</td>\n",
       "      <td>67.000000</td>\n",
       "    </tr>\n",
       "  </tbody>\n",
       "</table>\n",
       "</div>"
      ],
      "text/plain": [
       "          votes.cool    votes.funny          stars   votes.useful\n",
       "count  200000.000000  200000.000000  200000.000000  200000.000000\n",
       "mean        0.644440       0.534925       3.660460       1.124985\n",
       "std         1.609059       1.614179       1.334991       1.962349\n",
       "min         0.000000       0.000000       1.000000       0.000000\n",
       "25%         0.000000       0.000000       3.000000       0.000000\n",
       "50%         0.000000       0.000000       4.000000       1.000000\n",
       "75%         1.000000       0.000000       5.000000       1.000000\n",
       "max        65.000000      68.000000       5.000000      67.000000"
      ]
     },
     "execution_count": 3,
     "metadata": {},
     "output_type": "execute_result"
    }
   ],
   "source": [
    "data.describe()"
   ]
  },
  {
   "cell_type": "code",
   "execution_count": 4,
   "metadata": {},
   "outputs": [
    {
     "data": {
      "text/plain": [
       "(200000, 10)"
      ]
     },
     "execution_count": 4,
     "metadata": {},
     "output_type": "execute_result"
    }
   ],
   "source": [
    "data.shape"
   ]
  },
  {
   "cell_type": "code",
   "execution_count": 5,
   "metadata": {},
   "outputs": [
    {
     "data": {
      "text/plain": [
       "0    dr. goldberg offers everything i look for in a...\n",
       "1    Unfortunately, the frustration of being Dr. Go...\n",
       "2    Dr. Goldberg has been my doctor for years and ...\n",
       "3    Been going to Dr. Goldberg for over 10 years. ...\n",
       "4    Got a letter in the mail last week that said D...\n",
       "Name: text, dtype: object"
      ]
     },
     "execution_count": 5,
     "metadata": {},
     "output_type": "execute_result"
    }
   ],
   "source": [
    "reviews = data[:45000][\"text\"]\n",
    "reviews.head()"
   ]
  },
  {
   "cell_type": "code",
   "execution_count": 6,
   "metadata": {},
   "outputs": [],
   "source": [
    "import string\n",
    "from nltk.corpus import stopwords\n",
    "\n",
    "def tokenize_reviews(review):\n",
    "    rev = [char for char in review if char not in string.punctuation]\n",
    "    rev = ''.join(rev)\n",
    "    \n",
    "    return [word for word in rev.split() if word.lower() not in stopwords.words('english')]"
   ]
  },
  {
   "cell_type": "code",
   "execution_count": 7,
   "metadata": {},
   "outputs": [
    {
     "name": "stdout",
     "output_type": "stream",
     "text": [
      "['Ate', 'Saturday', 'morning', 'breakfast', 'Pine', 'Cone', 'Friendlyquick', 'service', 'normal', 'prices', 'new', 'year', 'special', 'allyoucaneat', 'pancakes', '212', 'added', 'breakfast', 'sausage', 'patty', '300', 'Father', 'typical', 'two', 'eggs', 'toast', 'hashbowns', 'seem', 'fresh', 'cut', 'sausage', 'links', 'Food', 'tasty', 'major', 'qualms', 'hashbrowns', 'need', 'bit', 'cooking', 'coffee', 'needs', 'bit', 'bite', 'nice', 'assortment', 'bakes', 'goods', 'massive', 'large', 'head', 'creampuffs', 'eclairs', 'took', 'blueberry', 'muffin', 'go', 'enjoyed', 'Quick', 'exit', 'I94just', 'northeast', 'Madison']\n"
     ]
    }
   ],
   "source": [
    "print(tokenize_reviews(reviews[16]))"
   ]
  },
  {
   "cell_type": "code",
   "execution_count": 8,
   "metadata": {},
   "outputs": [],
   "source": [
    "review_tokens = []\n",
    "dataset = []\n",
    "for review in reviews:\n",
    "    if len(review) > 10:\n",
    "        review_tokens.append(tokenize_reviews(review))\n",
    "        dataset.append(review)"
   ]
  },
  {
   "cell_type": "code",
   "execution_count": 9,
   "metadata": {},
   "outputs": [
    {
     "name": "stdout",
     "output_type": "stream",
     "text": [
      "['gem', 'location', 'Ahwatukee', '11', 'years', 'next', 'Va', 'Bene', 'cant', 'believe', 'found', 'Italian', 'Im', 'pretty', 'picky', 'Italian', 'food', 'place', 'good', 'reasonably', 'priced', 'outset', 'though', 'doubts', 'bread', 'really', 'poor', 'excuse', 'Italian', 'bread', 'soft', 'anything', 'like', 'crusty', 'Italian', 'bread', 'Im', 'used', 'Normally', 'bode', 'well', 'quality', 'food', 'However', 'Lasagna', 'eggplant', 'parm', 'good', 'dont', 'think', 'Ill', 'ever', 'find', 'good', 'mamas', 'Salad', 'house', 'Italian', 'dressing', 'quite', 'good', 'wilted', 'lettuce', 'another', 'reviewer', 'experienced', 'Trio', 'pizza', 'ricotta', 'tomato', 'basil', 'clam', 'pizza', 'excellent', 'Never', 'clam', 'pizza', 'garlicky', 'wonderful', 'also', 'made', 'red', 'clam', 'sauce', 'version', 'good', 'garlicky', 'white', 'Also', 'pasta', 'broccoli', 'sausage', 'Excellent', 'thing', 'clam', 'pizza', 'pasta', 'bit', 'oily', 'liking', 'Next', 'time', 'Ill', 'ask', 'cut', 'back', 'oil', 'make', 'Sangria', 'oh', 'Love', 'Nice', 'fruity', 'sweet', 'dry', 'Finally', 'cannolihands', 'best', 'cannoli', 'Ive', 'LONG', 'time', 'thing', 'love', 'place', 'familyowned', 'tell', 'love', 'warm', 'friendly', 'went', 'birthday', 'dinner', 'husband', 'really', 'made', 'special', 'get', 'didnt', 'even', 'know', 'birthday', 'finished', 'sangria', 'thinking', 'Id', 'love', 'another', 'waiter', 'came', 'asked', 'wanted', 'left', 'carafe', 'turned', 'full', 'glass', 'brought', 'check', 'served', 'us', 'cannoli', 'house', 'thanked', 'hubby', 'telling', 'bday', 'said', 'hadnt', 'Definitely', 'returning', 'often', 'Especially', 'special', 'pricing', 'pasta', 'dishes', 'Mondays', 'Tuesdays']\n"
     ]
    }
   ],
   "source": [
    "print(review_tokens[44000])"
   ]
  },
  {
   "cell_type": "code",
   "execution_count": 10,
   "metadata": {},
   "outputs": [],
   "source": [
    "file = open(r'positive-words.txt')\n",
    "positive  = file.read()\n",
    "positive = positive.lower()\n",
    "file = open(r'negative-words.txt')\n",
    "negative  = file.read()"
   ]
  },
  {
   "cell_type": "code",
   "execution_count": 11,
   "metadata": {},
   "outputs": [],
   "source": [
    "def assign_score(token):\n",
    "    score = []\n",
    "    for word in token:\n",
    "        if word in positive:\n",
    "            score.append(1)\n",
    "        elif word in negative:\n",
    "            score.append(-1)\n",
    "        else:\n",
    "            score.append(0)\n",
    "    return score"
   ]
  },
  {
   "cell_type": "code",
   "execution_count": 12,
   "metadata": {},
   "outputs": [],
   "source": [
    "review_scores = []\n",
    "for token in review_tokens:\n",
    "    review_scores.append(assign_score(token))"
   ]
  },
  {
   "cell_type": "code",
   "execution_count": 13,
   "metadata": {},
   "outputs": [
    {
     "name": "stdout",
     "output_type": "stream",
     "text": [
      "13999 14922 16033\n"
     ]
    }
   ],
   "source": [
    "from statistics import mean\n",
    "labels = []\n",
    "pos = neg = neut = 0         \n",
    "for score in review_scores:\n",
    "    if score:\n",
    "        val =  mean(score)\n",
    "        if val > 0.29:\n",
    "            labels.append(1)\n",
    "            pos += 1\n",
    "        elif 0.212 <= val <= 0.29:\n",
    "            labels.append(0)\n",
    "            neut += 1\n",
    "        else:\n",
    "            labels.append(-1)\n",
    "            neg += 1\n",
    "    else:\n",
    "        labels.append(0)\n",
    "\n",
    "print(pos,neg,neut)"
   ]
  },
  {
   "cell_type": "code",
   "execution_count": 14,
   "metadata": {},
   "outputs": [],
   "source": [
    "from sklearn.model_selection import train_test_split\n",
    "x_train,x_test,y_train,y_test = train_test_split(dataset,labels,test_size=0.25,random_state=108)"
   ]
  },
  {
   "cell_type": "code",
   "execution_count": 15,
   "metadata": {},
   "outputs": [
    {
     "data": {
      "text/plain": [
       "Pipeline(memory=None,\n",
       "     steps=[('vect', CountVectorizer(analyzer='word', binary=False, decode_error='strict',\n",
       "        dtype=<class 'numpy.int64'>, encoding='utf-8', input='content',\n",
       "        lowercase=True, max_df=1.0, max_features=None, min_df=1,\n",
       "        ngram_range=(1, 1), preprocessor=None, stop_words='english',\n",
       "        ...ty='l2', random_state=None, solver='newton-cg',\n",
       "          tol=0.0001, verbose=0, warm_start=False))])"
      ]
     },
     "execution_count": 15,
     "metadata": {},
     "output_type": "execute_result"
    }
   ],
   "source": [
    "from sklearn.linear_model import LogisticRegression\n",
    "from sklearn.multiclass import OneVsOneClassifier\n",
    "from sklearn.pipeline import Pipeline\n",
    "from sklearn.feature_extraction.text import TfidfTransformer,CountVectorizer\n",
    "\n",
    "nb = Pipeline([('vect', CountVectorizer(analyzer = 'word',lowercase = True,stop_words='english')),\n",
    "               ('tfidf', TfidfTransformer(smooth_idf=True)),\n",
    "               ('clf', LogisticRegression(penalty='l2',solver='newton-cg',multi_class='multinomial')),\n",
    "              ])\n",
    "nb.fit(x_train, y_train)"
   ]
  },
  {
   "cell_type": "code",
   "execution_count": 16,
   "metadata": {},
   "outputs": [
    {
     "name": "stdout",
     "output_type": "stream",
     "text": [
      "[0.6483321  0.66750704 0.63932968 0.65514684 0.65722338]\n"
     ]
    }
   ],
   "source": [
    "from sklearn.model_selection import cross_val_score\n",
    "scores = cross_val_score(nb, x_train,y_train , cv=5)\n",
    "print(scores)"
   ]
  },
  {
   "cell_type": "code",
   "execution_count": 17,
   "metadata": {},
   "outputs": [
    {
     "data": {
      "text/plain": [
       "0.6552184358038972"
      ]
     },
     "execution_count": 17,
     "metadata": {},
     "output_type": "execute_result"
    }
   ],
   "source": [
    "y_pred = nb.predict(x_test)\n",
    "from sklearn.metrics import accuracy_score\n",
    "accuracy_score(y_test, y_pred)"
   ]
  },
  {
   "cell_type": "code",
   "execution_count": 18,
   "metadata": {},
   "outputs": [
    {
     "name": "stdout",
     "output_type": "stream",
     "text": [
      "              precision    recall  f1-score   support\n",
      "\n",
      "          -1       0.69      0.71      0.70      3761\n",
      "           0       0.56      0.55      0.56      4022\n",
      "           1       0.72      0.71      0.72      3456\n",
      "\n",
      "   micro avg       0.66      0.66      0.66     11239\n",
      "   macro avg       0.66      0.66      0.66     11239\n",
      "weighted avg       0.65      0.66      0.65     11239\n",
      "\n"
     ]
    }
   ],
   "source": [
    "y_pred = []\n",
    "y_pred = nb.predict(x_test)\n",
    "from sklearn.metrics import classification_report\n",
    "print(classification_report(y_test,y_pred))"
   ]
  },
  {
   "cell_type": "code",
   "execution_count": 19,
   "metadata": {},
   "outputs": [],
   "source": [
    "import heapq\n",
    "counter = []\n",
    "counter = engine.execute(\"SELECT COUNT(*) AS count,business_id FROM yelp_reviews GROUP BY business_id\").fetchall()\n",
    "rest = heapq.nlargest(10,counter)"
   ]
  },
  {
   "cell_type": "code",
   "execution_count": 20,
   "metadata": {},
   "outputs": [],
   "source": [
    "results = []\n",
    "correct = 0\n",
    "for count,id in rest:\n",
    "    data_base = []\n",
    "    stars = []\n",
    "    prediction = \"\"\n",
    "    data_base = engine.execute(\"SELECT text from yelp_reviews where business_id = ?\",(id)).fetchall()\n",
    "    stars = engine.execute(\"SELECT stars as INTEGER from yelp_reviews where business_id = ?\",(id)).fetchall()\n",
    "    new_db = []\n",
    "    stars_db = []\n",
    "    for data in data_base:\n",
    "        new_db.append(str(data))\n",
    "\n",
    "    for star in stars:\n",
    "        stars_db.append(star[0])\n",
    "        \n",
    "    ypred = nb.predict(new_db)\n",
    "    y_pred_new = []\n",
    "    for pred in ypred:\n",
    "        if pred == 0:\n",
    "            y_pred_new.append(3.5)\n",
    "        elif pred == -1:\n",
    "            y_pred_new.append(1.5)\n",
    "        else:\n",
    "            y_pred_new.append(5)\n",
    "        \n",
    "#         print(y_pred_new)\n",
    "    predicted = mean(y_pred_new)\n",
    "    actual = mean(stars_db)\n",
    "    if abs(predicted - actual) < 0.7:\n",
    "        prediction = \"correct\"\n",
    "        correct += 1\n",
    "    else:\n",
    "        prediction = \"wrong\"\n",
    "    results.append([predicted,actual,id,prediction])"
   ]
  },
  {
   "cell_type": "code",
   "execution_count": 22,
   "metadata": {},
   "outputs": [
    {
     "name": "stdout",
     "output_type": "stream",
     "text": [
      "|   Predicted |   Actual | Business_id            | Result   |\n",
      "|-------------+----------+------------------------+----------|\n",
      "|     2.74692 |  3.27635 | jf67Z1pnwElRSXllpQHiJg | correct  |\n",
      "|     3.43436 |  3.47659 | FV16IeXJp2W6pnghTz2FAw | correct  |\n",
      "|     2.82236 |  3.24557 | hW0Ne_HTHEAgGF1rAdmR-g | correct  |\n",
      "|     3.37163 |  4.31154 | JokKtdXU7zXHcr20Lrk29A | wrong    |\n",
      "|     3.19733 |  4.06886 | 4UVhuOLaMm2-34SrW8y-ag | wrong    |\n",
      "|     3.31265 |  4.48724 | SDwYQ6eSu1htn8vHWv128g | wrong    |\n",
      "|     3.19167 |  4.18182 | K8pM6qQdYu5h6buRE1-_sw | wrong    |\n",
      "|     2.68302 |  2.51402 | KJnVuzpveyDrHARVNZaYVg | correct  |\n",
      "|     3.04538 |  4.33168 | c1yGkETheht_1vjda7G5sA | wrong    |\n",
      "|     3.27787 |  4.27959 | L9UYbtAUOcfTgZFimehlXw | wrong    |\n"
     ]
    }
   ],
   "source": [
    "from tabulate import tabulate\n",
    "print(tabulate(results,headers=['Predicted', 'Actual', 'Business_id','Result'], tablefmt='orgtbl'))"
   ]
  },
  {
   "cell_type": "code",
   "execution_count": null,
   "metadata": {},
   "outputs": [],
   "source": []
  }
 ],
 "metadata": {
  "kernelspec": {
   "display_name": "Python 3",
   "language": "python",
   "name": "python3"
  },
  "language_info": {
   "codemirror_mode": {
    "name": "ipython",
    "version": 3
   },
   "file_extension": ".py",
   "mimetype": "text/x-python",
   "name": "python",
   "nbconvert_exporter": "python",
   "pygments_lexer": "ipython3",
   "version": "3.7.1"
  }
 },
 "nbformat": 4,
 "nbformat_minor": 2
}
